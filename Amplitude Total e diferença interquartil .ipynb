{
 "cells": [
  {
   "cell_type": "markdown",
   "id": "b6807fb8",
   "metadata": {},
   "source": [
    "# Médidas de dispersão: Amplitude Total e diferença interquartil "
   ]
  },
  {
   "cell_type": "code",
   "execution_count": 1,
   "id": "7b4b134e",
   "metadata": {},
   "outputs": [],
   "source": [
    "import pandas as pd\n",
    "import numpy as np\n",
    "import statistics\n",
    "from scipy import stats\n",
    "import math"
   ]
  },
  {
   "cell_type": "code",
   "execution_count": 2,
   "id": "d29bb339",
   "metadata": {},
   "outputs": [],
   "source": [
    "dados = np.array([150,151,152,152,153,154,155,155,155,155,156,156,156,\n",
    "                 157,158,158,160,160,160,160,160,160,161,161,161,161,162,\n",
    "                 163,163,164,164,164,165,166,167,168,168,169,170,172])"
   ]
  },
  {
   "cell_type": "code",
   "execution_count": 3,
   "id": "fc10f634",
   "metadata": {},
   "outputs": [
    {
     "data": {
      "text/plain": [
       "22"
      ]
     },
     "execution_count": 3,
     "metadata": {},
     "output_type": "execute_result"
    }
   ],
   "source": [
    "amplitude = dados.max() - dados.min()\n",
    "amplitude"
   ]
  },
  {
   "cell_type": "code",
   "execution_count": 4,
   "id": "4196efc2",
   "metadata": {},
   "outputs": [
    {
     "data": {
      "text/plain": [
       "(155.75, 164.0)"
      ]
     },
     "execution_count": 4,
     "metadata": {},
     "output_type": "execute_result"
    }
   ],
   "source": [
    "q1 = np.quantile(dados, 0.25) # 25% da base de dados\n",
    "q3 = np.quantile(dados, 0.75) # 75% da base de dados\n",
    "\n",
    "q1, q3"
   ]
  },
  {
   "cell_type": "code",
   "execution_count": 5,
   "id": "e98871b9",
   "metadata": {},
   "outputs": [
    {
     "data": {
      "text/plain": [
       "8.25"
      ]
     },
     "execution_count": 5,
     "metadata": {},
     "output_type": "execute_result"
    }
   ],
   "source": [
    "# Diferença interquartil\n",
    "\n",
    "diferenca_interquartil = q3 - q1 \n",
    "diferenca_interquartil"
   ]
  },
  {
   "cell_type": "code",
   "execution_count": 6,
   "id": "5045cf9b",
   "metadata": {},
   "outputs": [
    {
     "data": {
      "text/plain": [
       "143.375"
      ]
     },
     "execution_count": 6,
     "metadata": {},
     "output_type": "execute_result"
    }
   ],
   "source": [
    "# Cálculo do outlier inferior\n",
    "\n",
    "inferior = q1 - (1.5 * diferenca_interquartil)\n",
    "inferior"
   ]
  },
  {
   "cell_type": "markdown",
   "id": "9a1895c2",
   "metadata": {},
   "source": [
    "Caso tiver dados menores que esse valor, já pode ser considerado como um outlier"
   ]
  },
  {
   "cell_type": "code",
   "execution_count": 7,
   "id": "645d1891",
   "metadata": {},
   "outputs": [
    {
     "data": {
      "text/plain": [
       "176.375"
      ]
     },
     "execution_count": 7,
     "metadata": {},
     "output_type": "execute_result"
    }
   ],
   "source": [
    "# Cálculo do outlier superior\n",
    "\n",
    "superior = q3 + (1.5 * diferenca_interquartil)\n",
    "superior"
   ]
  },
  {
   "cell_type": "markdown",
   "id": "a7e16f0e",
   "metadata": {},
   "source": [
    "Caso tiver dados maiores que esse valor, já pode ser considerado como um outlier"
   ]
  },
  {
   "cell_type": "markdown",
   "id": "20d73c68",
   "metadata": {},
   "source": [
    "É importante ressaltar que nem sempre um valor acima ou abaixo desses calculados é um outlier, é necessário compreender o contexto dos dados. Pois, apesar de um outlier afetar um modelo de Machine Learning, é possível observar que alguns dados não são outliers e representam algumas situações. "
   ]
  },
  {
   "cell_type": "markdown",
   "id": "b5f911e1",
   "metadata": {},
   "source": [
    "### Variância"
   ]
  },
  {
   "cell_type": "code",
   "execution_count": 8,
   "id": "e0c300f8",
   "metadata": {},
   "outputs": [],
   "source": [
    "dados_impar = np.array([150, 151, 152, 152, 153, 154, 155, 155, 155])"
   ]
  },
  {
   "cell_type": "code",
   "execution_count": 20,
   "id": "e1953218",
   "metadata": {},
   "outputs": [
    {
     "name": "stdout",
     "output_type": "stream",
     "text": [
      "Valor da variância 3.111111111111111\n",
      "Desvio padrão: 1.7638342073763937\n"
     ]
    }
   ],
   "source": [
    "### 1. Cálculo manual da variância\n",
    "\n",
    "# 1.1. Cálculo da média\n",
    "media = dados_impar.sum() / len(dados_impar)\n",
    "\n",
    "# 1.2. Cálculo do desvio\n",
    "desvio = abs(dados_impar - media)\n",
    "\n",
    "# 1.3. Desvio\n",
    "desvio = desvio ** 2\n",
    "\n",
    "# 1.4. Somatorio\n",
    "soma_desvio = desvio.sum()\n",
    "\n",
    "# 1.5. Dividir pela quantidade e calcular variancia\n",
    "v = soma_desvio/len(dados_impar)\n",
    "print(f\"Valor da variância {v}\")\n",
    "\n",
    "desvio_padrao = math.sqrt(v)\n",
    "print(f\"Desvio padrão: {desvio_padrao}\")"
   ]
  },
  {
   "cell_type": "code",
   "execution_count": 40,
   "id": "0cc0990b",
   "metadata": {},
   "outputs": [],
   "source": [
    "# Criando uma função\n",
    "\n",
    "def get_variancia_desvio_padrao_coeficiente(dataset):\n",
    "    media = dataset.sum()/len(dataset)\n",
    "    desvio = abs(dados_impar - media)\n",
    "    desvio = desvio ** 2\n",
    "    soma_desvio = desvio.sum()\n",
    "    variancia = soma_desvio/len(dados_impar)\n",
    "    desvio_padrao = math.sqrt(variancia)\n",
    "    cv = (desvio_padrao/media) * 100\n",
    "    \n",
    "    return variancia, desvio_padrao, cv"
   ]
  },
  {
   "cell_type": "code",
   "execution_count": 41,
   "id": "7b1ffbef",
   "metadata": {},
   "outputs": [
    {
     "data": {
      "text/plain": [
       "(3.111111111111111, 1.7638342073763937, 1.1528328152786886)"
      ]
     },
     "execution_count": 41,
     "metadata": {},
     "output_type": "execute_result"
    }
   ],
   "source": [
    "# Testando\n",
    "\n",
    "get_variancia_desvio_padrao_coeficiente(dados_impar)"
   ]
  },
  {
   "cell_type": "code",
   "execution_count": 39,
   "id": "09f31796",
   "metadata": {},
   "outputs": [
    {
     "data": {
      "text/plain": [
       "3.111111111111111"
      ]
     },
     "execution_count": 39,
     "metadata": {},
     "output_type": "execute_result"
    }
   ],
   "source": [
    "# Trabalhando com as bibliotecas\n",
    "\n",
    "np.var(dados_impar)"
   ]
  },
  {
   "cell_type": "code",
   "execution_count": 16,
   "id": "328352b8",
   "metadata": {},
   "outputs": [
    {
     "data": {
      "text/plain": [
       "29.897499999999997"
      ]
     },
     "execution_count": 16,
     "metadata": {},
     "output_type": "execute_result"
    }
   ],
   "source": [
    "np.var(dados)"
   ]
  },
  {
   "cell_type": "markdown",
   "id": "9fdc21a8",
   "metadata": {},
   "source": [
    "É possível perceber que, a variância está alta. Por definição, a variância determina o quão é distante da média, então, se a variância é um valor alto, é possível interpretar que os dados oscilam muito. "
   ]
  },
  {
   "cell_type": "markdown",
   "id": "98f34a7a",
   "metadata": {},
   "source": [
    "Outro ponto é tomar cuidado, pois nem sempre a variância indica o real valor da distância dos valores, é possível notar por exemplo para esses dados que, isso não indica que a variância entre os números é exatamente 30 cm, pois o valor min e max tem a diferença de 20 que é a amplitude"
   ]
  },
  {
   "cell_type": "code",
   "execution_count": 18,
   "id": "9413af3f",
   "metadata": {},
   "outputs": [
    {
     "data": {
      "text/plain": [
       "30"
      ]
     },
     "execution_count": 18,
     "metadata": {},
     "output_type": "execute_result"
    }
   ],
   "source": [
    "# Outra forma de calcular como a variância se comporta\n",
    "\n",
    "statistics.variance(dados)"
   ]
  },
  {
   "cell_type": "code",
   "execution_count": 19,
   "id": "23610dcd",
   "metadata": {},
   "outputs": [
    {
     "data": {
      "text/plain": [
       "29.897499999999997"
      ]
     },
     "execution_count": 19,
     "metadata": {},
     "output_type": "execute_result"
    }
   ],
   "source": [
    "# Utilizando scipy \n",
    "\n",
    "from scipy import ndimage \n",
    "\n",
    "ndimage.variance(dados)  "
   ]
  },
  {
   "cell_type": "code",
   "execution_count": 28,
   "id": "45dd5d77",
   "metadata": {},
   "outputs": [
    {
     "data": {
      "text/plain": [
       "1.7638342073763937"
      ]
     },
     "execution_count": 28,
     "metadata": {},
     "output_type": "execute_result"
    }
   ],
   "source": [
    "# Calculo do desvio padrao\n",
    "\n",
    "np.std(dados_impar)"
   ]
  },
  {
   "cell_type": "code",
   "execution_count": 30,
   "id": "2fac12aa",
   "metadata": {},
   "outputs": [
    {
     "data": {
      "text/plain": [
       "5.4678606419695805"
      ]
     },
     "execution_count": 30,
     "metadata": {},
     "output_type": "execute_result"
    }
   ],
   "source": [
    "np.std(dados)"
   ]
  },
  {
   "cell_type": "markdown",
   "id": "10049284",
   "metadata": {},
   "source": [
    "Observa aqui o seguinte, em média, as alturas da base de dados, estão variando em torno de 5.46 cm com relação a média. "
   ]
  },
  {
   "cell_type": "code",
   "execution_count": 31,
   "id": "f2ec5cec",
   "metadata": {},
   "outputs": [
    {
     "data": {
      "text/plain": [
       "5.477225575051661"
      ]
     },
     "execution_count": 31,
     "metadata": {},
     "output_type": "execute_result"
    }
   ],
   "source": [
    "statistics.stdev(dados) # Outro método para calcular o desvio padrao"
   ]
  },
  {
   "cell_type": "code",
   "execution_count": 33,
   "id": "3fa94ed5",
   "metadata": {},
   "outputs": [
    {
     "data": {
      "text/plain": [
       "5.4678606419695805"
      ]
     },
     "execution_count": 33,
     "metadata": {},
     "output_type": "execute_result"
    }
   ],
   "source": [
    "stats.tstd(dados, ddof=0) # Outro método para calcular o desvio padrao"
   ]
  },
  {
   "cell_type": "code",
   "execution_count": 36,
   "id": "8d38687b",
   "metadata": {},
   "outputs": [
    {
     "name": "stdout",
     "output_type": "stream",
     "text": [
      "O valor de coeficiente de variação é: 1.1528328152786886\n"
     ]
    }
   ],
   "source": [
    "# Coeficiente de variação\n",
    "\n",
    "cv = (desvio_padrao / media) * 100\n",
    "print(f\"O valor de coeficiente de variação é: {cv}\")"
   ]
  },
  {
   "cell_type": "code",
   "execution_count": 43,
   "id": "54dddcaf",
   "metadata": {},
   "outputs": [
    {
     "data": {
      "text/plain": [
       "1.1528328152786886"
      ]
     },
     "execution_count": 43,
     "metadata": {},
     "output_type": "execute_result"
    }
   ],
   "source": [
    "# Coeficiente de variacao usando scipy \n",
    "\n",
    "stats.variation(dados_impar) * 100"
   ]
  },
  {
   "cell_type": "code",
   "execution_count": 44,
   "id": "9cb43955",
   "metadata": {},
   "outputs": [
    {
     "data": {
      "text/plain": [
       "3.416345293326823"
      ]
     },
     "execution_count": 44,
     "metadata": {},
     "output_type": "execute_result"
    }
   ],
   "source": [
    "stats.variation(dados) * 100"
   ]
  },
  {
   "cell_type": "markdown",
   "id": "24a9172e",
   "metadata": {},
   "source": [
    "Analise o seguinte, indica que em média a altura das pessoas variam em torno de 5.46 cm na base de dados e isso representa 3.41% da variação da base de dados. \n",
    "\n",
    "E para avaliar se isso é bom ou não, fazendo comparação com base de dados. Que possuem a mesma características. "
   ]
  },
  {
   "cell_type": "code",
   "execution_count": null,
   "id": "0adb4c98",
   "metadata": {},
   "outputs": [],
   "source": []
  }
 ],
 "metadata": {
  "kernelspec": {
   "display_name": "Python 3",
   "language": "python",
   "name": "python3"
  },
  "language_info": {
   "codemirror_mode": {
    "name": "ipython",
    "version": 3
   },
   "file_extension": ".py",
   "mimetype": "text/x-python",
   "name": "python",
   "nbconvert_exporter": "python",
   "pygments_lexer": "ipython3",
   "version": "3.8.8"
  }
 },
 "nbformat": 4,
 "nbformat_minor": 5
}
